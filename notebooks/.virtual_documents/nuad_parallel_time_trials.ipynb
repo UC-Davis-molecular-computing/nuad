import nuad.vienna_nupack as nv
length = 20
seqs = [(nv.random_dna_seq(length), nv.random_dna_seq(length)) for _ in range(8)]


from pprint import pprint
import nuad.vienna_nupack as nv
import nuad.constraints as nc
import pathos
pool = pathos.pools.ProcessPool(processes=2)
def ev(pairs):
    print(f'{pairs=}')
    energies = [nv.pfunc(pair) for pair in pairs]
    print(f'{energies=}')
    return energies

pairs_lists = nc.chunker(seqs, num_chunks=2)
pprint(pairs_lists)
pool.map(ev, pairs_lists)


import nuad.vienna_nupack as nv

def pfunc_all(seqs):
    for s1, s2 in seqs:
        p = nv.pfunc((s1,s2))

%timeit pfunc_all(seqs)
%timeit nv.rna_duplex_multiple(seqs)
%timeit nv.rna_plex_multiple(seqs)


from multiprocessing.pool import ThreadPool
from pathos.pools import ProcessPool
import psutil

num_cores = psutil.cpu_count(logical=False)
# num_cores = psutil.cpu_count(logical=True)
print(num_cores)
thread_pool = ThreadPool(processes=num_cores)
# process_pool = ProcessPool(processes=num_cores)
process_pool = ProcessPool(nodes=num_cores)


# pfunc
import nuad.vienna_nupack as nv
from pprint import pprint
from timeit import timeit
from importlib import reload
reload(nv)

nv.pfunc('ACGTACGTAGCTA') # call once so overhead of loading Model isn't being measured in any call below

num_trials = 5
print(f'using {process_pool.ncpus} processes in ProcessPool')
print(f'averaging each run over {num_trials} trials')
# for seq_length in [10, 15, 20, 30, 40, 50, 75, 100, 125, 150]:
for seq_length in [10, 100, 125, 150, 175, 200]:
# for seq_length in [200]:
    print('#'*80)
    print(f'#  seq length = {seq_length}')
    #for num_seqs in [1, 2, 4, 8, 10, 15, 20, 30, 40, 50, 75, 100, 200, 300, 400, 500]: # for lower seq_length
    # for num_seqs in [1, 2, 4, 8, 10, 15, 20]:
    for num_seqs in [100]:
        parallel_seqs = [nv.random_dna_seq(seq_length) for _ in range(num_seqs)]
        sequential_seqs = [nv.random_dna_seq(seq_length) for _ in range(num_seqs)]
        print(f'#  {"*"*60}')
        print(f'#  * num seqs = {num_seqs}')

        def pfunc_sequential():
            energies = tuple(nv.pfunc(seq) for seq in sequential_seqs)
            return energies
        
        time_s = timeit(pfunc_sequential, number=num_trials)
        time_s_ave = time_s / num_trials
        print(f'#  * ave seq time = {time_s_ave:.2f} sec')

        time_p = timeit(lambda: nv.pfunc_parallel(process_pool, parallel_seqs), number=num_trials)
        time_p_ave = time_p / num_trials
        print(f'#  * ave par time = {time_p_ave:.2f} sec')

        print(f'#  * seq/par      = {time_s_ave/time_p_ave:.2f}')
        print('#')
    print()


# rna_duplex_multiple
import nuad.vienna_nupack as nv
from pprint import pprint
from timeit import timeit
from importlib import reload
reload(nv)

num_trials = 3
print(f'using {thread_pool.??} threads in ThreadPool')
print(f'averaging each run over {num_trials} trials')
for seq_length in [10, 15, 20, 30, 40, 50, 75, 100]:
    print('#'*80)
    print(f'#  seq length = {seq_length}')
    for num_pairs in [100, 200, 300, 400, 500, 1000, 2000, 5000, 10000, 20000, 50000]:
        pairs = [(nv.random_dna_seq(seq_length), nv.random_dna_seq(seq_length)) for _ in range(num_pairs)]
        print(f'#  {"*"*60}')
        print(f'#  * num_pairs = {num_pairs}')

        time_s = timeit(lambda: nv.rna_duplex_multiple(pairs), number=num_trials)
        time_s_ave = time_s / num_trials
        print(f'#  * ave seq time = {time_s_ave:.2f} sec')

        time_p = timeit(lambda: nv.rna_duplex_multiple_parallel(thread_pool, pairs), number=num_trials)
        time_p_ave = time_p / num_trials
        print(f'#  * ave par time = {time_p_ave:.2f} sec')

        print(f'#  * seq/par      = {time_s_ave/time_p_ave:.2f}')
        print('#')
    print()





import pathos.helpers as ph
import psutil as psutil
from inspect import getsource

print(f'{ph.cpu_count()=}')
print(f'{ps.cpu_count()=}')
print(f'{psutil.cpu_count(logical=True)=}')
print(f'{psutil.cpu_count(logical=False)=}')


import nuad.constraints as nc
from importlib import reload
reload(nc)

nc.chunker(('A', 'B', 'C', 'D', 'E', 'F', 'G'), num_chunks=4)
num = 9
nc.chunker(list(range(1,num+1)), num_chunks=8)
